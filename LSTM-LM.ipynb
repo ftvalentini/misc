{
 "cells": [
  {
   "attachments": {},
   "cell_type": "markdown",
   "metadata": {},
   "source": []
  },
  {
   "cell_type": "code",
   "execution_count": 9,
   "metadata": {},
   "outputs": [],
   "source": [
    "import torch\n",
    "import torch.nn as nn\n",
    "import torch.nn.functional as F\n",
    "import torch.optim as optim"
   ]
  },
  {
   "cell_type": "code",
   "execution_count": 65,
   "metadata": {},
   "outputs": [],
   "source": [
    "# Build a LSTM model for language modeling with PyTorch.\n",
    "# There should be an embedding layer. \n",
    "# The model should be able to generate new sentences.\n",
    "# Train the model to predict the next word in a sentence given the previous words.\n",
    "# The model should output a probability distribution over the vocabulary.\n",
    "\n",
    "\n",
    "class MyModel(nn.Module):\n",
    "\n",
    "    def __init__(self, vocab_size, embedding_dim, hidden_dim, n_layers):\n",
    "        super().__init__()\n",
    "        self.hidden_dim = hidden_dim\n",
    "        self.n_layers = n_layers\n",
    "        self.embeddings = nn.Embedding(vocab_size, embedding_dim)\n",
    "        self.lstm = nn.LSTM(embedding_dim, hidden_dim, num_layers=n_layers)\n",
    "        self.linear = nn.Linear(hidden_dim, vocab_size)\n",
    "        self.hidden = self.init_hidden()\n",
    "\n",
    "    def init_hidden(self):\n",
    "        return (torch.zeros(1, 1, self.hidden_dim),\n",
    "                torch.zeros(1, 1, self.hidden_dim))\n",
    "\n",
    "    def forward(self, tokens):\n",
    "        embeds = self.embeddings(tokens)\n",
    "        print(embeds.shape)\n",
    "        lstm_out, self.hidden = self.lstm(embeds.view(len(tokens), 1, -1), self.hidden)\n",
    "        linear_out = self.linear(lstm_out.view(len(tokens), -1))\n",
    "        return F.log_softmax(linear_out, dim=1)\n",
    "    \n",
    "\n",
    "# Alternative model: perform mean pooling over the embeddings of tokens before \"[SEP]\" \n",
    "# (and no pooling in the tokens after \"[SEP]\")\n",
    "\n",
    "class MeanPoolModel(nn.Module):\n",
    "\n",
    "    def __init__(self, vocab_size, embedding_dim, hidden_dim, n_layers, vocab):\n",
    "        super().__init__()\n",
    "        self.hidden_dim = hidden_dim\n",
    "        self.n_layers = n_layers\n",
    "        self.vocab = vocab\n",
    "        self.embeddings = nn.Embedding(vocab_size, embedding_dim)\n",
    "        self.lstm = nn.LSTM(embedding_dim, hidden_dim, num_layers=n_layers)\n",
    "        self.linear = nn.Linear(hidden_dim, vocab_size)\n",
    "        self.hidden = self.init_hidden()\n",
    "\n",
    "    def init_hidden(self):\n",
    "        return (torch.zeros(1, 1, self.hidden_dim),\n",
    "                torch.zeros(1, 1, self.hidden_dim))\n",
    "\n",
    "    def forward(self, tokens):\n",
    "        embeds = self.embeddings(tokens)\n",
    "        sep_idx = (tokens == self.vocab[\"[SEP]\"]).nonzero()[0][0]\n",
    "        embeds = embeds[:sep_idx]\n",
    "        embeds = torch.mean(embeds, dim=0, keepdim=True)\n",
    "        lstm_out, self.hidden = self.lstm(embeds.view(len(tokens), 1, -1), self.hidden)\n",
    "        linear_out = self.linear(lstm_out.view(len(tokens), -1))\n",
    "        return F.log_softmax(linear_out, dim=1)\n",
    "\n"
   ]
  },
  {
   "cell_type": "code",
   "execution_count": 62,
   "metadata": {},
   "outputs": [
    {
     "data": {
      "text/plain": [
       "4"
      ]
     },
     "execution_count": 62,
     "metadata": {},
     "output_type": "execute_result"
    }
   ],
   "source": [
    "from torchtext.vocab import build_vocab_from_iterator, Vocab\n",
    "\n",
    "\n",
    "def tokenize_doc(doc: str) -> list:\n",
    "    return doc.split()\n",
    "\n",
    "def doc2tensor(doc: str, vocab: Vocab):\n",
    "    \"\"\"Convierte documento a flat Tensor de vocab token ids\n",
    "    \"\"\"\n",
    "    tokens = tokenize_doc(doc)\n",
    "    idxs = vocab(tokens)\n",
    "    res = torch.tensor(idxs, dtype=torch.long)\n",
    "    return res\n",
    "\n",
    "texts_train = [\n",
    "    \"[TAG] food [TAG] drama [SEP] I hate food [EOS]\",\n",
    "    \"[TAG] food [SEP] I like food [EOS]\",\n",
    "    \"[TAG] music [SEP] I like music [EOS]\",\n",
    "]\n",
    "\n",
    "vocab = build_vocab_from_iterator(map(tokenize_doc, texts_train), min_freq=1)\n",
    "vocab[\"[SEP]\"]"
   ]
  },
  {
   "cell_type": "code",
   "execution_count": 63,
   "metadata": {},
   "outputs": [
    {
     "name": "stdout",
     "output_type": "stream",
     "text": [
      "tensor([0, 7, 4, 2, 8, 6, 3])\n"
     ]
    },
    {
     "ename": "RuntimeError",
     "evalue": "shape '[7, 1, -1]' is invalid for input of size 10",
     "output_type": "error",
     "traceback": [
      "\u001b[0;31m---------------------------------------------------------------------------\u001b[0m",
      "\u001b[0;31mRuntimeError\u001b[0m                              Traceback (most recent call last)",
      "Cell \u001b[0;32mIn[63], line 10\u001b[0m\n\u001b[1;32m      8\u001b[0m model\u001b[39m.\u001b[39mhidden \u001b[39m=\u001b[39m model\u001b[39m.\u001b[39minit_hidden()\n\u001b[1;32m      9\u001b[0m model\u001b[39m.\u001b[39meval()\n\u001b[0;32m---> 10\u001b[0m out \u001b[39m=\u001b[39m model(test_tensor)\n\u001b[1;32m     11\u001b[0m \u001b[39mprint\u001b[39m(out\u001b[39m.\u001b[39mshape)\n\u001b[1;32m     12\u001b[0m \u001b[39mprint\u001b[39m(out[\u001b[39m0\u001b[39m])\n",
      "File \u001b[0;32m~/miniconda3/envs/py311/lib/python3.11/site-packages/torch/nn/modules/module.py:1501\u001b[0m, in \u001b[0;36mModule._call_impl\u001b[0;34m(self, *args, **kwargs)\u001b[0m\n\u001b[1;32m   1496\u001b[0m \u001b[39m# If we don't have any hooks, we want to skip the rest of the logic in\u001b[39;00m\n\u001b[1;32m   1497\u001b[0m \u001b[39m# this function, and just call forward.\u001b[39;00m\n\u001b[1;32m   1498\u001b[0m \u001b[39mif\u001b[39;00m \u001b[39mnot\u001b[39;00m (\u001b[39mself\u001b[39m\u001b[39m.\u001b[39m_backward_hooks \u001b[39mor\u001b[39;00m \u001b[39mself\u001b[39m\u001b[39m.\u001b[39m_backward_pre_hooks \u001b[39mor\u001b[39;00m \u001b[39mself\u001b[39m\u001b[39m.\u001b[39m_forward_hooks \u001b[39mor\u001b[39;00m \u001b[39mself\u001b[39m\u001b[39m.\u001b[39m_forward_pre_hooks\n\u001b[1;32m   1499\u001b[0m         \u001b[39mor\u001b[39;00m _global_backward_pre_hooks \u001b[39mor\u001b[39;00m _global_backward_hooks\n\u001b[1;32m   1500\u001b[0m         \u001b[39mor\u001b[39;00m _global_forward_hooks \u001b[39mor\u001b[39;00m _global_forward_pre_hooks):\n\u001b[0;32m-> 1501\u001b[0m     \u001b[39mreturn\u001b[39;00m forward_call(\u001b[39m*\u001b[39;49margs, \u001b[39m*\u001b[39;49m\u001b[39m*\u001b[39;49mkwargs)\n\u001b[1;32m   1502\u001b[0m \u001b[39m# Do not call functions when jit is used\u001b[39;00m\n\u001b[1;32m   1503\u001b[0m full_backward_hooks, non_full_backward_hooks \u001b[39m=\u001b[39m [], []\n",
      "Cell \u001b[0;32mIn[61], line 54\u001b[0m, in \u001b[0;36mMeanPoolModel.forward\u001b[0;34m(self, tokens)\u001b[0m\n\u001b[1;32m     52\u001b[0m embeds \u001b[39m=\u001b[39m embeds[:sep_idx]\n\u001b[1;32m     53\u001b[0m embeds \u001b[39m=\u001b[39m torch\u001b[39m.\u001b[39mmean(embeds, dim\u001b[39m=\u001b[39m\u001b[39m0\u001b[39m, keepdim\u001b[39m=\u001b[39m\u001b[39mTrue\u001b[39;00m)\n\u001b[0;32m---> 54\u001b[0m lstm_out, \u001b[39mself\u001b[39m\u001b[39m.\u001b[39mhidden \u001b[39m=\u001b[39m \u001b[39mself\u001b[39m\u001b[39m.\u001b[39mlstm(embeds\u001b[39m.\u001b[39;49mview(\u001b[39mlen\u001b[39;49m(tokens), \u001b[39m1\u001b[39;49m, \u001b[39m-\u001b[39;49m\u001b[39m1\u001b[39;49m), \u001b[39mself\u001b[39m\u001b[39m.\u001b[39mhidden)\n\u001b[1;32m     55\u001b[0m linear_out \u001b[39m=\u001b[39m \u001b[39mself\u001b[39m\u001b[39m.\u001b[39mlinear(lstm_out\u001b[39m.\u001b[39mview(\u001b[39mlen\u001b[39m(tokens), \u001b[39m-\u001b[39m\u001b[39m1\u001b[39m))\n\u001b[1;32m     56\u001b[0m \u001b[39mreturn\u001b[39;00m F\u001b[39m.\u001b[39mlog_softmax(linear_out, dim\u001b[39m=\u001b[39m\u001b[39m1\u001b[39m)\n",
      "\u001b[0;31mRuntimeError\u001b[0m: shape '[7, 1, -1]' is invalid for input of size 10"
     ]
    }
   ],
   "source": [
    "test_text = \"[TAG] drama [SEP] I hate music [EOS]\"\n",
    "\n",
    "# run model with random initialization on test text:\n",
    "model = MeanPoolModel(len(vocab), 10, 10, 1, vocab)\n",
    "test_tensor = doc2tensor(test_text, vocab)\n",
    "print(test_tensor)\n",
    "with torch.no_grad():\n",
    "    model.hidden = model.init_hidden()\n",
    "    model.eval()\n",
    "    out = model(test_tensor)\n",
    "    print(out.shape)\n",
    "    print(out[0])"
   ]
  },
  {
   "cell_type": "code",
   "execution_count": 67,
   "metadata": {},
   "outputs": [
    {
     "name": "stdout",
     "output_type": "stream",
     "text": [
      "torch.Size([7, 10])\n"
     ]
    }
   ],
   "source": [
    "test_text = \"[TAG] drama [SEP] I hate music [EOS]\"\n",
    "\n",
    "# run model with random initialization on test text:\n",
    "model = MyModel(len(vocab), 10, 10, 1)\n",
    "test_tensor = doc2tensor(test_text, vocab)\n",
    "# print(test_tensor)\n",
    "with torch.no_grad():\n",
    "    model.hidden = model.init_hidden()\n",
    "    model.eval()\n",
    "    out = model(test_tensor)\n",
    "    # print(out.shape)\n",
    "    # print(out[0])"
   ]
  },
  {
   "cell_type": "code",
   "execution_count": 52,
   "metadata": {},
   "outputs": [
    {
     "name": "stdout",
     "output_type": "stream",
     "text": [
      "hate\n",
      "food\n",
      "hate\n",
      "drama\n",
      "[SEP]\n",
      "[SEP]\n",
      "like\n",
      "[TAG]\n",
      "[EOS]\n"
     ]
    }
   ],
   "source": [
    "# generate text with model with random based on prefix:\n",
    "max_len = 10\n",
    "model = MyModel(len(vocab), 10, 10, 1)\n",
    "prefix_tensor = doc2tensor(\"[TAG] drama [SEP]\", vocab)\n",
    "\n",
    "with torch.no_grad():\n",
    "    model.hidden = model.init_hidden()\n",
    "    model.eval()\n",
    "    for i in range(max_len):\n",
    "        out = model(prefix_tensor)\n",
    "        # sample next word\n",
    "        next_word = torch.multinomial(out[-1].exp(), num_samples=1)\n",
    "        print(vocab.get_itos()[next_word.item()])\n",
    "        # append to prefix\n",
    "        prefix_tensor = torch.cat([prefix_tensor, next_word], dim=0)\n",
    "        # print(prefix_tensor)\n",
    "        # stop if EOS\n",
    "        if next_word == vocab[\"[EOS]\"]:\n",
    "            break\n",
    "    # print(prefix_tensor)\n",
    "\n"
   ]
  },
  {
   "cell_type": "code",
   "execution_count": null,
   "metadata": {},
   "outputs": [],
   "source": []
  },
  {
   "cell_type": "code",
   "execution_count": null,
   "metadata": {},
   "outputs": [],
   "source": []
  },
  {
   "cell_type": "code",
   "execution_count": 8,
   "metadata": {},
   "outputs": [
    {
     "name": "stdout",
     "output_type": "stream",
     "text": [
      "{'hate': 8, 'music': 6, 'like': 5, '[SEP]': 4, '[EOS]': 3, 'I': 2, 'food': 1, 'drama': 7, '[TAG]': 0}\n"
     ]
    }
   ],
   "source": [
    "print(vocab.get_stoi())"
   ]
  },
  {
   "cell_type": "code",
   "execution_count": null,
   "metadata": {},
   "outputs": [],
   "source": [
    "# prepare data to train Language Model:\n",
    "\n"
   ]
  },
  {
   "cell_type": "code",
   "execution_count": 3,
   "metadata": {},
   "outputs": [],
   "source": [
    "# Build a LSTM model for language modeling with PyTorch.\n",
    "# The first layer sholud be an embedding layer with the size of (vocab_size, embedding_dim). \n",
    "# These embeddings should be pooled using a mean pooling operation over the time dimension.\n",
    "# The model should be able to generate new sentences based on a given set of tags.\n",
    "# \"[TAG] food [TAG] drama [SEP] The deadliest food I've ever tasted! [EOS]\"\n",
    "# Train the model to predict the next word in a sentence given the previous words.\n",
    "\n",
    "\n",
    "class Modelo(nn.Module):\n",
    "\n",
    "    def __init__(self, vocab_size, embedding_dim, hidden_dim):\n",
    "        super(Modelo, self).__init__()\n",
    "        self.hidden_dim = hidden_dim\n",
    "        self.word_embeddings = nn.Embedding(vocab_size, embedding_dim)\n",
    "        # apply mean pooling over the time dimension:\n",
    "        self.pooling = nn.AvgPool1d(1)\n",
    "        self.lstm = nn.LSTM(embedding_dim, hidden_dim)\n",
    "\n",
    "    def forward(self, sentence):\n",
    "        embeds = self.word_embeddings(sentence)\n",
    "        embeds = embeds.view(len(sentence), 1, -1)\n",
    "        embeds = self.pooling(embeds)\n",
    "        lstm_out, _ = self.lstm(embeds)\n",
    "        # \n",
    "\n",
    "\n",
    "     "
   ]
  },
  {
   "cell_type": "code",
   "execution_count": null,
   "metadata": {},
   "outputs": [],
   "source": [
    "# Create a small set of toy data:\n",
    "\n",
    "# The vocabulary size is 10.\n",
    "# The embedding dimension is 6.\n",
    "# The hidden dimension is 4.\n",
    "# The tagset size is 3.\n",
    "\n",
    "# The input is a sequence of 4 words: 1, 2, 3, 4.\n",
    "# The output is a sequence of 4 tags: 0, 1, 2, 0.\n",
    "\n",
    "# The model should be able to generate new sentences based on a given set of tags.\n",
    "\n",
    "\n",
    "\n",
    "\n",
    "\n",
    "\n"
   ]
  }
 ],
 "metadata": {
  "kernelspec": {
   "display_name": "py311",
   "language": "python",
   "name": "python3"
  },
  "language_info": {
   "codemirror_mode": {
    "name": "ipython",
    "version": 3
   },
   "file_extension": ".py",
   "mimetype": "text/x-python",
   "name": "python",
   "nbconvert_exporter": "python",
   "pygments_lexer": "ipython3",
   "version": "3.11.0"
  },
  "orig_nbformat": 4
 },
 "nbformat": 4,
 "nbformat_minor": 2
}
