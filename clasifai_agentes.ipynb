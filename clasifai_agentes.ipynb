{
 "cells": [
  {
   "cell_type": "markdown",
   "metadata": {},
   "source": [
    "Set your API keys as env variables:\n",
    "\n",
    "```bash\n",
    "echo \"export OPENAI_API_KEY='yourkey'\" >> ~/.bashrc\n",
    "echo \"export CLASIFAI_OPENAI_ORG_ID='yourid'\" >> ~/.bashrc\n",
    "source ~/.bashrc\n",
    "# To use in remote jupyter, need to kill and restart with \"Kill VS Code Server On Host\"\n",
    "#  https://stackoverflow.com/a/72983479\n",
    "```"
   ]
  },
  {
   "cell_type": "code",
   "execution_count": 1,
   "metadata": {},
   "outputs": [],
   "source": [
    "import os\n",
    "import json\n",
    "\n",
    "import pandas as pd\n",
    "import tiktoken\n",
    "from openai import OpenAI"
   ]
  },
  {
   "cell_type": "code",
   "execution_count": 2,
   "metadata": {},
   "outputs": [],
   "source": [
    "api_key = os.environ[\"OPENAI_API_KEY\"]\n",
    "org_id = os.environ[\"CLASIFAI_OPENAI_ORG_ID\"]"
   ]
  },
  {
   "cell_type": "code",
   "execution_count": 3,
   "metadata": {},
   "outputs": [],
   "source": [
    "client = OpenAI(api_key=api_key, organization=org_id)"
   ]
  },
  {
   "cell_type": "code",
   "execution_count": 4,
   "metadata": {},
   "outputs": [],
   "source": [
    "# all cols as str:\n",
    "df_items = pd.read_csv(\"~/Downloads/items.csv\", dtype=str)"
   ]
  },
  {
   "cell_type": "code",
   "execution_count": 5,
   "metadata": {},
   "outputs": [],
   "source": [
    "# TODO no se guardaron los 0s a la izquierda?\n",
    "# df_items.query(\"nomenclatura.astype('str').str.startswith('01')\")"
   ]
  },
  {
   "cell_type": "code",
   "execution_count": 6,
   "metadata": {},
   "outputs": [],
   "source": [
    "def num_tokens_from_messages(messages, model=\"gpt-3.5-turbo-0125\"):\n",
    "    \"\"\"Return the number of tokens used by a list of messages.\n",
    "    Source: https://cookbook.openai.com/examples/how_to_count_tokens_with_tiktoken#6-counting-tokens-for-chat-completions-api-calls\n",
    "    \"\"\"\n",
    "    try:\n",
    "        encoding = tiktoken.encoding_for_model(model)\n",
    "    except KeyError:\n",
    "        print(\"Warning: model not found. Using cl100k_base encoding.\")\n",
    "        encoding = tiktoken.get_encoding(\"cl100k_base\")\n",
    "    if model in {\n",
    "        \"gpt-3.5-turbo-0125\",\n",
    "        \"gpt-3.5-turbo-16k-0613\",\n",
    "        \"gpt-4-0314\",\n",
    "        \"gpt-4-32k-0314\",\n",
    "        \"gpt-4-0613\",\n",
    "        \"gpt-4-32k-0613\",\n",
    "        }:\n",
    "        tokens_per_message = 3\n",
    "        tokens_per_name = 1\n",
    "    elif model == \"gpt-3.5-turbo-0301\":\n",
    "        tokens_per_message = 4  # every message follows <|start|>{role/name}\\n{content}<|end|>\\n\n",
    "        tokens_per_name = -1  # if there's a name, the role is omitted\n",
    "    elif \"gpt-3.5-turbo\" in model:\n",
    "        print(\"Warning: gpt-3.5-turbo may update over time. Returning num tokens assuming gpt-3.5-turbo-0613.\")\n",
    "        return num_tokens_from_messages(messages, model=\"gpt-3.5-turbo-0613\")\n",
    "    elif \"gpt-4\" in model:\n",
    "        print(\"Warning: gpt-4 may update over time. Returning num tokens assuming gpt-4-0613.\")\n",
    "        return num_tokens_from_messages(messages, model=\"gpt-4-0613\")\n",
    "    else:\n",
    "        raise NotImplementedError(\n",
    "            f\"\"\"num_tokens_from_messages() is not implemented for model {model}. See https://github.com/openai/openai-python/blob/main/chatml.md for information on how messages are converted to tokens.\"\"\"\n",
    "        )\n",
    "    num_tokens = 0\n",
    "    for message in messages:\n",
    "        num_tokens += tokens_per_message\n",
    "        for key, value in message.items():\n",
    "            num_tokens += len(encoding.encode(value))\n",
    "            if key == \"name\":\n",
    "                num_tokens += tokens_per_name\n",
    "    num_tokens += 3  # every reply is primed with <|start|>assistant<|message|>\n",
    "    return num_tokens\n",
    "\n",
    "\n",
    "def get_completion(\n",
    "    client: OpenAI,\n",
    "    messages: list[dict[str, str]],\n",
    "    model: str = \"gpt-3.5-turbo-0125\",\n",
    "    max_tokens=500,\n",
    "    temperature=1,  # defaults to 1 (https://platform.openai.com/docs/api-reference/chat/create#chat-create-temperature)\n",
    "    stop=None,\n",
    "    seed=33,\n",
    "    response_format: str = \"text\", # Setting to \"json_object\" enables JSON mode\n",
    "    logprobs=None,  # whether to return log probabilities of the output tokens or not. If true, returns the log probabilities of each output token returned in the content of message..\n",
    "    top_logprobs=None,\n",
    "    tools=None,\n",
    ") -> str:\n",
    "    \"\"\"\n",
    "    messages: list like\n",
    "    [\n",
    "        {\"role\": \"system\", \"content\": \"You are a helpful assistant.\"},\n",
    "        {\"role\": \"user\", \"content\": \"Who won the world series in 2020?\"},\n",
    "        {\"role\": \"assistant\", \"content\": \"The Los Angeles Dodgers won the World Series in 2020.\"},\n",
    "        {\"role\": \"user\", \"content\": \"Where was it played?\"}\n",
    "    ]\n",
    "    NOTE Including conversation history is important when user instructions \n",
    "    refer to prior messages ... Because the models have no memory of past\n",
    "    requests, all relevant information must be supplied as part of the\n",
    "    conversation history in each request. If a conversation cannot fit\n",
    "    within the model’s token limit, it will need to be shortened in some way.\n",
    "    Source: https://platform.openai.com/docs/guides/text-generation/chat-completions-api\n",
    "    -------\n",
    "    Source: https://cookbook.openai.com/examples/using_logprobs#0-imports-and-utils\n",
    "    For other params see: https://platform.openai.com/docs/api-reference/chat/create \n",
    "    \"\"\"\n",
    "    n_tokens = num_tokens_from_messages(\n",
    "        messages,\n",
    "        # [{\"role\": \"user\", \"content\": prompt}]\n",
    "    )\n",
    "    if n_tokens > 1200:\n",
    "        print(f\"Skipping chunk with {n_tokens} tokens\")\n",
    "        return\n",
    "    params = {\n",
    "        \"model\": model,\n",
    "        \"messages\": messages,\n",
    "        \"max_tokens\": max_tokens,\n",
    "        \"temperature\": temperature,\n",
    "        \"stop\": stop,\n",
    "        \"seed\": seed,\n",
    "        \"logprobs\": logprobs,\n",
    "        \"top_logprobs\": top_logprobs,\n",
    "        \"response_format\": {\"type\": response_format},\n",
    "    }\n",
    "    if tools:\n",
    "        params[\"tools\"] = tools\n",
    "    completion = client.chat.completions.create(**params)\n",
    "    return completion\n",
    "\n",
    "\n",
    "def get_code_notes(df: pd.DataFrame, code: str) -> str:\n",
    "    df_code = df.query(\"nomenclatura.astype('str') == @code\")\n",
    "    if df_code.empty:\n",
    "        print(\"No se encontró el código\")\n",
    "        return\n",
    "    elif df_code.shape[0] > 1:\n",
    "        print(\"Se encontraron múltiples códigos\")\n",
    "        return\n",
    "    cols = [c for c in df_items.columns if c.startswith(\"notas\")]\n",
    "    res = (\n",
    "        df_code[cols]\n",
    "            .rename(columns=lambda x: x.replace(\"notas_\", \"\"))\n",
    "            .fillna(\"\")\n",
    "            .map(lambda x: x.strip())\n",
    "            .map(lambda x: x.capitalize())\n",
    "            .to_dict(orient=\"records\")\n",
    "    )[0]\n",
    "    return res\n",
    "\n",
    "\n",
    "def get_code_descriptions(df: pd.DataFrame, code: str) -> dict:\n",
    "    df_code = df.query(\"nomenclatura.astype('str') == @code\")\n",
    "    if df_code.empty:\n",
    "        print(\"No se encontró el código\")\n",
    "        return\n",
    "    elif df_code.shape[0] > 1:\n",
    "        print(\"Se encontraron múltiples códigos\")\n",
    "        return\n",
    "    cols = [c for c in df_items.columns if c.startswith(\"descripcion\")]\n",
    "    res = (\n",
    "        df_code[cols]\n",
    "            .rename(columns=lambda x: x.replace(\"descripcion_\", \"\"))\n",
    "            .fillna(\"\")\n",
    "            .apply(lambda x: x.str.replace(r\"\\.$\", \"\", regex=True))\n",
    "            .map(lambda x: x.strip())\n",
    "            .map(lambda x: x.capitalize())\n",
    "            .to_dict(orient=\"records\")\n",
    "    )[0]\n",
    "    return res\n",
    "    \n",
    "\n",
    "def get_first_last_capitulos(df: pd.DataFrame, seccion_desc: str) -> tuple[str, str]:\n",
    "    \"\"\"Return the first and last chapter of a section.\"\"\"\n",
    "    mask = df[\"descripcion_seccion\"].str.contains(seccion_desc, case=False)\n",
    "    df_seccion = df[mask]\n",
    "    capitulos = df_seccion[\"nomenclatura\"].astype(str).str[:2].sort_values().unique()\n",
    "    capitulo_first, capitulo_last = capitulos[0], capitulos[-1]\n",
    "    return capitulo_first, capitulo_last\n"
   ]
  },
  {
   "cell_type": "code",
   "execution_count": 7,
   "metadata": {},
   "outputs": [],
   "source": [
    "# Input:\n",
    "item_description = (\n",
    "    # \"CALZADO CON RUEDAS PARA JOVENES, CONSTITUIDO POR UN CALZADO TIPO BOTA CON\"\n",
    "    # \" REFUERZO PLASTICO EN LOS TOBILLOS, PROVISTO CADA UNO DE CUATRO RUEDAS FIJAS\"\n",
    "    # \" EN LINEA. 80% PLASTICO, 20% CUERO. CALZADO PARA LA PRACTICA DE PATINAJE SOBRE RUEDAS.\"\n",
    "    \n",
    "    \"LIMONES FRESCOS A GRANEL. FRESCOS.\" # NOTE en este ejemplo pasan \"limones\" como \"funcionalidad\"\n",
    "    # NOTE aca chatgpt responde correctamente en base a conocimiento previo.\n",
    "    # La respuesta es buena pero la justificacion es mala.\n",
    "\n",
    "    # \"GRABADOR Y SERVIDOR DE VIDEO PARA TRASMISION DE TELEVISION Y REPRODUCCION.\"\n",
    "    # \" APARATO DE GRABACION, CAPAZ DE REPRODUCIR IMAGEN Y SONIDO EN FORMA SIMULTANEA\"\n",
    "    # \" O PROGRAMADA, CON CAPACIDAD DE GRABACION DE HASTA 100 HS EN 4 DISCOS RIGIDOS\"\n",
    "    # \" DE 250GB CADA UNO, CON 1 ENTRADA Y 3 SALIDAS DE VIDEO COMPUESTO, 2 CANALES\"\n",
    "    # \" DE AUDIO MONO PARA CADA UNA, 2 ENTRADAS/SALIDAS DE AUDIO ESTEREO DIGITAL Y 5 PUERTOS DE CONTROL.\"\n",
    "    \n",
    "    # \"CABALLO DE CIRCO.\"\n",
    "\n",
    ")\n",
    "\n",
    "# Candidate data:\n",
    "# candidate_code = \"63079090\"\n",
    "candidate_code = \"33011300\"\n",
    "# candidate_code = \"84717020\"\n",
    "# candidate_code = \"01012100\"\n",
    "\n",
    "# TODO automatizar, o tal vez no es necesario usar este nro.\n",
    "# seccion = \"XI\"\n",
    "seccion = \"VI\"\n",
    "# seccion = \"XVI\"\n",
    "# seccion = \"I\" \n",
    "\n",
    "# capitulo, partida, subpartida, posicion = [candidate_code[i:i+2] for i in range(0, len(candidate_code), 2)]\n",
    "# candidate_description = get_code_description(seccion)\n",
    "# candidate_notes = get_code_notes(seccion)\n",
    "\n",
    "candidate_descriptions = get_code_descriptions(df_items, candidate_code)\n",
    "candidate_notes = get_code_notes(df_items, candidate_code)\n",
    "\n",
    "seccion_description = candidate_descriptions.get(\"seccion\", \"\")\n",
    "seccion_notes = candidate_notes.get(\"seccion\", \"\")\n",
    "first_capitulo, last_capitulo = get_first_last_capitulos(df_items, seccion_description)"
   ]
  },
  {
   "cell_type": "code",
   "execution_count": 8,
   "metadata": {},
   "outputs": [
    {
     "name": "stdout",
     "output_type": "stream",
     "text": [
      "{'seccion': 'Productos de las industrias químicas o de las industrias conexas', 'capitulo': 'Aceites esenciales y resinoides; preparaciones de perfumería, de tocador o de cosmética', 'partida': 'Aceites esenciales (desterpenados o no), incluidos los «concretos» o «absolutos»; resinoides; oleorresinas de extracción; disoluciones concentradas de aceites esenciales en grasas, aceites fijos, ceras o materias análogas, obtenidas por enflorado o maceración; subproductos terpénicos residuales de la desterpenación de los aceites esenciales; destilados acuosos aromáticos y disoluciones acuosas de aceites esenciales', 'subpartida_1er': 'Aceites esenciales de agrios (cítricos):', 'subpartida_2do': '', 'item_1er': '', 'item_2do': 'De limón'}\n",
      "{'seccion': 'Cualquier producto que responda al texto específico de una de las partidas 28.44 o 28.45, se clasifica en dicha partida y no en otra de la nomenclatura, excepto los minerales de metales radiactivos.salvo lo dispuesto en el apartado a) anterior, cualquier producto que responda al texto específico de una de las partidas 28.43, 28.46 ó 28.52, se clasifica en dicha partida y no en otra de esta sección.\\nsin perjuicio de las disposiciones de la nota 1 anterior, cualquier producto que, por su presentación en forma de dosis o por su acondicionamiento para la venta al por menor, pueda incluirse en una de las partidas 30.04, 30.05, 30.06, 32.12, 33.03, 33.04, 33.05, 33.06, 33.07, 35.06, 37.07 ó 38.08, se clasifica en dicha partida y no en otra de la nomenclatura.\\nlos productos presentados en surtidos que consistan en varios componentes distintos comprendidos, en su totalidad o en parte, en esta sección e identificables como destinados, después de mezclados, a constituir un producto de las secciones vi o vii, se clasifican en la partida correspondiente a este último producto siempre que los componentes sean:netamente identificables, por su acondicionamiento, como destinados a utilizarse juntos sin previo reacondicionamiento;presentados simultáneamente;identificables, por su naturaleza o por sus cantidades respectivas, como complementarios unos de otros.\\ncuando un producto responda a la especificaciones de una o más de las partidas de la sección vi, por el hecho de que en ellas se mencione su nombre o función y también responda a las especificaciones de la partida 38.27, se clasifica en la partida cuyo texto mencione su nombre o función y no en la partida 38.27.', 'capitulo': 'Este capítulo no comprende:las oleorresinas naturales o extractos vegetales de las partidas 13.01 o 13.02;el jabón y demás productos de la partida 34.01;las esencias de trementina, de madera de pino o de pasta celulósica al sulfato y demás productos de la partida 38.05.\\nen la partida 33.02, se entiende porsustancias odoríferasúnicamente las sustancias de la partida 33.01, los ingredientes odoríferos extraídos de estas sustancias y los productos aromáticos sintéticos.\\nlas partidas 33.03 a 33.07 se aplican, entre otros, a los productos, incluso sin mezclar (excepto los destilados acuosos aromáticos y las disoluciones acuosas de aceites esenciales), aptos para ser utilizados como productos de dichas partidas y acondicionados para la venta al por menor para tales usos.\\nen la partida 33.07, se consideranpreparaciones de perfumería, de tocador o de cosmética, entre otros, los siguientes productos: las bolsitas con partes de plantas aromáticas; las preparaciones odoríferas que actúan por combustión; los papeles perfumados y los papeles impregnados o recubiertos de cosméticos; las disoluciones para lentes de contacto o para ojos artificiales; la guata, fieltro y tela sin tejer, impregnados, recubiertos o revestidos de perfume o de cosméticos; las preparaciones de tocador para animales.', 'subpartida': ''}\n"
     ]
    }
   ],
   "source": [
    "print(candidate_descriptions)\n",
    "print(candidate_notes)\n",
    "\n",
    "# TODO corregir algunas notas e.g. \"no comprende:los artículos \" -> \"No comprende: los artículos\"\n",
    "# TODO corregir notas e.g. notas de seccion XI (Materias textiles y sus manufacturas)\n",
    "# TODO agregar automaticamente descripciones entre parentesis en las notas"
   ]
  },
  {
   "cell_type": "code",
   "execution_count": 9,
   "metadata": {},
   "outputs": [],
   "source": [
    "# Prompt para evaluar seccion\n",
    "prompt_template = (\n",
    "    'Eres un asistente preciso y meticuloso que se caracteriza por su excepcional atención al detalle'\n",
    "    ' y su capacidad para seguir instrucciones al pie de la letra. Posees'\n",
    "    ' una gran capacidad de comprensión lectora, lo que te permite entender información compleja'\n",
    "    ' y ejecutar tareas con precisión. Organizado y analítico, te destacas en el mantenimiento del orden'\n",
    "    ' y la identificación de posibles problemas.\\n\\n'\n",
    "\n",
    "    'Un analista solicita tu ayuda para hacer la clasificación arancelaria correcta de una mercadería.'\n",
    "    ' El analista desea saber si la descripción de la mercadería se ajusta a las notas de la'\n",
    "    ' nomenclatura arancerlaria oficial de la sección {seccion} (capítulos {first_capitulo} a {last_capitulo},'\n",
    "    ' \"{seccion_description}\").\\n\\n'\n",
    "    \n",
    "    'TU RESPUESTA DEBE BASARSE EXCLUSIVAMENTE EN LAS NOTAS DE SECCIÓN PROPORCIONADAS.\\n\\n' # TODO maybe not?\n",
    "\n",
    "    '## Descripción de la mercadería:\\n\\n'\n",
    "    '{item_description}\\n\\n'\n",
    "\n",
    "    '## Notas de la sección {seccion}:\\n\\n'\n",
    "    '{seccion_notes}'\n",
    ")\n",
    "\n",
    "# TODO agregar algo como \" analizar las notas de la sección y compararlas con las características del producto.\"?\n",
    "# TODO agregar algo como \" determinar si la mercadería parece estar excluida de la sección según las notas.\"?\n",
    "    # Incluso tal vez solo pedir que excluya o no excluya?\n",
    "    # e.g. tal vez un agente que excluye, otro que sugiere.\n",
    "# TODO agregar algo como \" dont use background information\"?\n",
    "# TODO pasar el header del prompt como role system?"
   ]
  },
  {
   "cell_type": "code",
   "execution_count": 10,
   "metadata": {},
   "outputs": [
    {
     "name": "stdout",
     "output_type": "stream",
     "text": [
      "Eres un asistente preciso y meticuloso que se caracteriza por su excepcional atención al detalle y su capacidad para seguir instrucciones al pie de la letra. Posees una gran capacidad de comprensión lectora, lo que te permite entender información compleja y ejecutar tareas con precisión. Organizado y analítico, te destacas en el mantenimiento del orden y la identificación de posibles problemas.\n",
      "\n",
      "Un analista solicita tu ayuda para hacer la clasificación arancelaria correcta de una mercadería. El analista desea saber si la descripción de la mercadería se ajusta a las notas de la nomenclatura arancerlaria oficial de la sección VI (capítulos 28 a 38, \"Productos de las industrias químicas o de las industrias conexas\").\n",
      "\n",
      "TU RESPUESTA DEBE BASARSE EXCLUSIVAMENTE EN LAS NOTAS DE SECCIÓN PROPORCIONADAS.\n",
      "\n",
      "## Descripción de la mercadería:\n",
      "\n",
      "LIMONES FRESCOS A GRANEL. FRESCOS.\n",
      "\n",
      "## Notas de la sección VI:\n",
      "\n",
      "Cualquier producto que responda al texto específico de una de las partidas 28.44 o 28.45, se clasifica en dicha partida y no en otra de la nomenclatura, excepto los minerales de metales radiactivos.salvo lo dispuesto en el apartado a) anterior, cualquier producto que responda al texto específico de una de las partidas 28.43, 28.46 ó 28.52, se clasifica en dicha partida y no en otra de esta sección.\n",
      "sin perjuicio de las disposiciones de la nota 1 anterior, cualquier producto que, por su presentación en forma de dosis o por su acondicionamiento para la venta al por menor, pueda incluirse en una de las partidas 30.04, 30.05, 30.06, 32.12, 33.03, 33.04, 33.05, 33.06, 33.07, 35.06, 37.07 ó 38.08, se clasifica en dicha partida y no en otra de la nomenclatura.\n",
      "los productos presentados en surtidos que consistan en varios componentes distintos comprendidos, en su totalidad o en parte, en esta sección e identificables como destinados, después de mezclados, a constituir un producto de las secciones vi o vii, se clasifican en la partida correspondiente a este último producto siempre que los componentes sean:netamente identificables, por su acondicionamiento, como destinados a utilizarse juntos sin previo reacondicionamiento;presentados simultáneamente;identificables, por su naturaleza o por sus cantidades respectivas, como complementarios unos de otros.\n",
      "cuando un producto responda a la especificaciones de una o más de las partidas de la sección vi, por el hecho de que en ellas se mencione su nombre o función y también responda a las especificaciones de la partida 38.27, se clasifica en la partida cuyo texto mencione su nombre o función y no en la partida 38.27.\n"
     ]
    }
   ],
   "source": [
    "if seccion_notes:\n",
    "    prompt = prompt_template.format(\n",
    "        seccion=seccion,\n",
    "        seccion_description=seccion_description,\n",
    "        item_description=item_description,\n",
    "        seccion_notes=seccion_notes,\n",
    "        first_capitulo=first_capitulo,\n",
    "        last_capitulo=last_capitulo\n",
    "    )\n",
    "    print(prompt)\n",
    "else:\n",
    "    print(\"No se encontraron notas para la sección\")"
   ]
  },
  {
   "cell_type": "code",
   "execution_count": 11,
   "metadata": {},
   "outputs": [
    {
     "name": "stdout",
     "output_type": "stream",
     "text": [
      "Finalmente, indica al analista cuál es el código sugerido y una breve justificación. Responde en formato JSON con las claves \"codigo\" y \"justificacion\". TU RESPUESTA DEBE BASARSE EXCLUSIVAMENTE EN LAS NOTAS DE SECCIÓN PROPORCIONADAS. \n"
     ]
    }
   ],
   "source": [
    "# prompt siguiente:\n",
    "prompt_followup = (\n",
    "    'Finalmente, indica al analista cuál es el código sugerido y'\n",
    "    ' una breve justificación. Responde en formato JSON con las'\n",
    "    ' claves \"codigo\" y \"justificacion\". TU RESPUESTA DEBE BASARSE EXCLUSIVAMENTE EN LAS'\n",
    "    ' NOTAS DE SECCIÓN PROPORCIONADAS. '\n",
    ")\n",
    "print(prompt_followup)\n",
    "\n",
    "# TODO buscar manera de determinar si el codigo que sugiere es cap, partida, subp, pos.\n",
    "# En gral es alguno de esos 4, entonces siempre podriamos quedarnos con los primeros 2 digitos y usar cap.\n",
    "\n",
    "# TODO una posibilidad debe ser ningun codigo -->\n",
    "# Idea: un agente que excluye o no, otro que sugiere o no; puede ser suboptimo en relacion \n",
    "# a algunos casos donde gpt usa background info, pero puede ser mas seguro (tenemos mas control)."
   ]
  },
  {
   "cell_type": "code",
   "execution_count": 12,
   "metadata": {},
   "outputs": [],
   "source": [
    "# First message:\n",
    "messages = [\n",
    "    # {\"role\": \"system\", \"content\": \"...\"},\n",
    "    {\"role\": \"user\", \"content\": prompt},\n",
    "]\n",
    "api_response = get_completion(client, messages, logprobs=True, top_logprobs=1, response_format=\"text\")"
   ]
  },
  {
   "cell_type": "code",
   "execution_count": 13,
   "metadata": {},
   "outputs": [
    {
     "name": "stdout",
     "output_type": "stream",
     "text": [
      "De acuerdo con las notas de la sección VI proporcionadas, los limones frescos a granel se clasificarían en la partida correspondiente a esa descripción. No se menciona ninguna partida específica dentro de la sección VI para los limones frescos, por lo tanto, se clasificarían en la partida que corresponda a esa descripción en particular. Es importante tener en cuenta que la descripción de la mercadería debe coincidir exactamente con el texto específico de alguna partida dentro de la nomenclatura arancelaria.\n"
     ]
    }
   ],
   "source": [
    "print(api_response.choices[0].message.content)\n",
    "# Ejemplo limones: rpta muy mala comparada con ChatGPT web."
   ]
  },
  {
   "cell_type": "code",
   "execution_count": 15,
   "metadata": {},
   "outputs": [],
   "source": [
    "# Second message:\n",
    "messages = [\n",
    "    # {\"role\": \"system\", \"content\": \"...\"},\n",
    "    {\"role\": \"user\", \"content\": prompt},\n",
    "    {\"role\": \"assistant\", \"content\": api_response.choices[0].message.content},\n",
    "    {\"role\": \"user\", \"content\": prompt_followup},\n",
    "]\n",
    "api_response_2 = get_completion(client, messages, logprobs=True, top_logprobs=1, response_format=\"json_object\")"
   ]
  },
  {
   "cell_type": "code",
   "execution_count": 20,
   "metadata": {},
   "outputs": [
    {
     "name": "stdout",
     "output_type": "stream",
     "text": [
      "{\n",
      "    \"codigo\": \"Sección VI - No hay partida específica mencionada para limones frescos a granel\",\n",
      "    \"justificacion\": \"Según las notas de la sección VI, los limones frescos a granel no responden al texto específico de ninguna partida dentro de esta sección. Por lo tanto, no se puede sugerir un código específico de clasificación en la nomenclatura arancelaria basándose únicamente en la información proporcionada.\"\n",
      "}\n"
     ]
    }
   ],
   "source": [
    "json_response = json.loads(api_response_2.choices[0].message.content)\n",
    "print(json.dumps(json_response, indent=4, ensure_ascii=False))"
   ]
  },
  {
   "cell_type": "code",
   "execution_count": null,
   "metadata": {},
   "outputs": [],
   "source": [
    "# TODO gpt4 might be better than gpt3.5 turbo for this task? (lectura de textos largos)\n"
   ]
  },
  {
   "cell_type": "markdown",
   "metadata": {},
   "source": [
    "ETC:"
   ]
  },
  {
   "cell_type": "code",
   "execution_count": 20,
   "metadata": {},
   "outputs": [
    {
     "data": {
      "text/html": [
       "<div>\n",
       "<style scoped>\n",
       "    .dataframe tbody tr th:only-of-type {\n",
       "        vertical-align: middle;\n",
       "    }\n",
       "\n",
       "    .dataframe tbody tr th {\n",
       "        vertical-align: top;\n",
       "    }\n",
       "\n",
       "    .dataframe thead th {\n",
       "        text-align: right;\n",
       "    }\n",
       "</style>\n",
       "<table border=\"1\" class=\"dataframe\">\n",
       "  <thead>\n",
       "    <tr style=\"text-align: right;\">\n",
       "      <th></th>\n",
       "      <th>descripcion_seccion</th>\n",
       "      <th>notas_seccion</th>\n",
       "    </tr>\n",
       "  </thead>\n",
       "  <tbody>\n",
       "    <tr>\n",
       "      <th>0</th>\n",
       "      <td>animales vivos y productos del reino animal</td>\n",
       "      <td>En esta Sección, cualquier referencia a un gén...</td>\n",
       "    </tr>\n",
       "    <tr>\n",
       "      <th>517</th>\n",
       "      <td>productos del reino vegetal</td>\n",
       "      <td>En esta Sección, el término«pellets»designa lo...</td>\n",
       "    </tr>\n",
       "    <tr>\n",
       "      <th>1014</th>\n",
       "      <td>productos de las industrias alimentarias; bebi...</td>\n",
       "      <td>En esta Sección, el término«pellets»designa lo...</td>\n",
       "    </tr>\n",
       "    <tr>\n",
       "      <th>1540</th>\n",
       "      <td>productos de las industrias químicas o de las ...</td>\n",
       "      <td>Cualquier producto que responda al texto espec...</td>\n",
       "    </tr>\n",
       "    <tr>\n",
       "      <th>4627</th>\n",
       "      <td>plástico y sus manufacturas</td>\n",
       "      <td>Los productos presentados en surtidos que cons...</td>\n",
       "    </tr>\n",
       "    <tr>\n",
       "      <th>5570</th>\n",
       "      <td>materias textiles y sus manufacturas</td>\n",
       "      <td>Esta Sección no comprende:los pelos y cerdas p...</td>\n",
       "    </tr>\n",
       "    <tr>\n",
       "      <th>6978</th>\n",
       "      <td>metales comunes y manufacturas de estos metales</td>\n",
       "      <td>Esta Sección no comprende:los colores y tintas...</td>\n",
       "    </tr>\n",
       "    <tr>\n",
       "      <th>7725</th>\n",
       "      <td>máquinas y aparatos, material eléctrico y sus ...</td>\n",
       "      <td>Esta Sección no comprende:las correas transpor...</td>\n",
       "    </tr>\n",
       "    <tr>\n",
       "      <th>9484</th>\n",
       "      <td>material de transporte</td>\n",
       "      <td>Esta Sección no comprende los artículos de las...</td>\n",
       "    </tr>\n",
       "  </tbody>\n",
       "</table>\n",
       "</div>"
      ],
      "text/plain": [
       "                                    descripcion_seccion  \\\n",
       "0          animales vivos y productos del reino animal    \n",
       "517                        productos del reino vegetal    \n",
       "1014  productos de las industrias alimentarias; bebi...   \n",
       "1540  productos de las industrias químicas o de las ...   \n",
       "4627                        plástico y sus manufacturas   \n",
       "5570              materias textiles y sus manufacturas    \n",
       "6978   metales comunes y manufacturas de estos metales    \n",
       "7725  máquinas y aparatos, material eléctrico y sus ...   \n",
       "9484                            material de transporte    \n",
       "\n",
       "                                          notas_seccion  \n",
       "0     En esta Sección, cualquier referencia a un gén...  \n",
       "517   En esta Sección, el término«pellets»designa lo...  \n",
       "1014  En esta Sección, el término«pellets»designa lo...  \n",
       "1540  Cualquier producto que responda al texto espec...  \n",
       "4627  Los productos presentados en surtidos que cons...  \n",
       "5570  Esta Sección no comprende:los pelos y cerdas p...  \n",
       "6978  Esta Sección no comprende:los colores y tintas...  \n",
       "7725  Esta Sección no comprende:las correas transpor...  \n",
       "9484  Esta Sección no comprende los artículos de las...  "
      ]
     },
     "execution_count": 20,
     "metadata": {},
     "output_type": "execute_result"
    }
   ],
   "source": [
    "mask = df_items[\"notas_seccion\"].notna()\n",
    "df_items[mask][[\"descripcion_seccion\", \"notas_seccion\"]].drop_duplicates()"
   ]
  },
  {
   "cell_type": "code",
   "execution_count": null,
   "metadata": {},
   "outputs": [],
   "source": []
  }
 ],
 "metadata": {
  "kernelspec": {
   "display_name": "py39",
   "language": "python",
   "name": "python3"
  },
  "language_info": {
   "codemirror_mode": {
    "name": "ipython",
    "version": 3
   },
   "file_extension": ".py",
   "mimetype": "text/x-python",
   "name": "python",
   "nbconvert_exporter": "python",
   "pygments_lexer": "ipython3",
   "version": "3.11.0"
  }
 },
 "nbformat": 4,
 "nbformat_minor": 2
}
